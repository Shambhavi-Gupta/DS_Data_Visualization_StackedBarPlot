{
  "nbformat": 4,
  "nbformat_minor": 0,
  "metadata": {
    "colab": {
      "name": "DS_Data_Visualization_StackedBarPlot.ipynb",
      "provenance": [],
      "authorship_tag": "ABX9TyMjppbVTGGd/rFC288hr0JT",
      "include_colab_link": true
    },
    "kernelspec": {
      "name": "python3",
      "display_name": "Python 3"
    }
  },
  "cells": [
    {
      "cell_type": "markdown",
      "metadata": {
        "id": "view-in-github",
        "colab_type": "text"
      },
      "source": [
        "<a href=\"https://colab.research.google.com/github/Shambhavi-Gupta/DS_Data_Visualization_StackedBarPlot/blob/master/DS_Data_Visualization_StackedBarPlot.ipynb\" target=\"_parent\"><img src=\"https://colab.research.google.com/assets/colab-badge.svg\" alt=\"Open In Colab\"/></a>"
      ]
    },
    {
      "cell_type": "code",
      "metadata": {
        "id": "fC_4b95j-Y2k",
        "colab_type": "code",
        "colab": {}
      },
      "source": [
        "import numpy as np\n",
        "import pandas as pd\n",
        "import matplotlib.pyplot as plt\n",
        "from matplotlib import style\n",
        "plt.style.use(['dark_background'])\n",
        "import seaborn as sns\n",
        "sns.set(color_codes=True)"
      ],
      "execution_count": null,
      "outputs": []
    },
    {
      "cell_type": "code",
      "metadata": {
        "id": "FxhORbTQ-_t0",
        "colab_type": "code",
        "colab": {}
      },
      "source": [
        "url = 'https://api.covid19india.org/states_daily.json'"
      ],
      "execution_count": null,
      "outputs": []
    },
    {
      "cell_type": "code",
      "metadata": {
        "id": "5Y0_PTdh_yZb",
        "colab_type": "code",
        "colab": {}
      },
      "source": [
        "import urllib.request"
      ],
      "execution_count": null,
      "outputs": []
    },
    {
      "cell_type": "code",
      "metadata": {
        "id": "_LfAtNW6BnRA",
        "colab_type": "code",
        "colab": {}
      },
      "source": [
        "covid_data = pd.read_json('data.json')"
      ],
      "execution_count": null,
      "outputs": []
    },
    {
      "cell_type": "code",
      "metadata": {
        "id": "RPecv9KZBwdv",
        "colab_type": "code",
        "colab": {}
      },
      "source": [
        "import json"
      ],
      "execution_count": null,
      "outputs": []
    },
    {
      "cell_type": "code",
      "metadata": {
        "id": "rJI3HxDl_18a",
        "colab_type": "code",
        "colab": {}
      },
      "source": [
        "#url = 'https://api.covid19india.org/states_daily.json'\n",
        "#urllib.request.urlretrieve(url ,'data.json')\n",
        "\n",
        "with open('data.json') as f:\n",
        "    data = json.load(f)\n",
        "data = data['states_daily']\n",
        "df= pd.json_normalize(data)    "
      ],
      "execution_count": null,
      "outputs": []
    },
    {
      "cell_type": "code",
      "metadata": {
        "id": "HvKmQO0vDNVv",
        "colab_type": "code",
        "colab": {
          "base_uri": "https://localhost:8080/",
          "height": 394
        },
        "outputId": "49db5f9d-9059-4d03-fb1a-47462b71a4d8"
      },
      "source": [
        "df.tail()"
      ],
      "execution_count": null,
      "outputs": [
        {
          "output_type": "execute_result",
          "data": {
            "text/html": [
              "<div>\n",
              "<style scoped>\n",
              "    .dataframe tbody tr th:only-of-type {\n",
              "        vertical-align: middle;\n",
              "    }\n",
              "\n",
              "    .dataframe tbody tr th {\n",
              "        vertical-align: top;\n",
              "    }\n",
              "\n",
              "    .dataframe thead th {\n",
              "        text-align: right;\n",
              "    }\n",
              "</style>\n",
              "<table border=\"1\" class=\"dataframe\">\n",
              "  <thead>\n",
              "    <tr style=\"text-align: right;\">\n",
              "      <th></th>\n",
              "      <th>an</th>\n",
              "      <th>ap</th>\n",
              "      <th>ar</th>\n",
              "      <th>as</th>\n",
              "      <th>br</th>\n",
              "      <th>ch</th>\n",
              "      <th>ct</th>\n",
              "      <th>date</th>\n",
              "      <th>dd</th>\n",
              "      <th>dl</th>\n",
              "      <th>dn</th>\n",
              "      <th>ga</th>\n",
              "      <th>gj</th>\n",
              "      <th>hp</th>\n",
              "      <th>hr</th>\n",
              "      <th>jh</th>\n",
              "      <th>jk</th>\n",
              "      <th>ka</th>\n",
              "      <th>kl</th>\n",
              "      <th>la</th>\n",
              "      <th>ld</th>\n",
              "      <th>mh</th>\n",
              "      <th>ml</th>\n",
              "      <th>mn</th>\n",
              "      <th>mp</th>\n",
              "      <th>mz</th>\n",
              "      <th>nl</th>\n",
              "      <th>or</th>\n",
              "      <th>pb</th>\n",
              "      <th>py</th>\n",
              "      <th>rj</th>\n",
              "      <th>sk</th>\n",
              "      <th>status</th>\n",
              "      <th>tg</th>\n",
              "      <th>tn</th>\n",
              "      <th>tr</th>\n",
              "      <th>tt</th>\n",
              "      <th>un</th>\n",
              "      <th>up</th>\n",
              "      <th>ut</th>\n",
              "      <th>wb</th>\n",
              "    </tr>\n",
              "  </thead>\n",
              "  <tbody>\n",
              "    <tr>\n",
              "      <th>364</th>\n",
              "      <td>9</td>\n",
              "      <td>1052</td>\n",
              "      <td>7</td>\n",
              "      <td>522</td>\n",
              "      <td>411</td>\n",
              "      <td>6</td>\n",
              "      <td>49</td>\n",
              "      <td>13-Jul-20</td>\n",
              "      <td>0</td>\n",
              "      <td>1344</td>\n",
              "      <td>42</td>\n",
              "      <td>53</td>\n",
              "      <td>608</td>\n",
              "      <td>11</td>\n",
              "      <td>654</td>\n",
              "      <td>43</td>\n",
              "      <td>116</td>\n",
              "      <td>838</td>\n",
              "      <td>162</td>\n",
              "      <td>18</td>\n",
              "      <td>0</td>\n",
              "      <td>4182</td>\n",
              "      <td>1</td>\n",
              "      <td>74</td>\n",
              "      <td>332</td>\n",
              "      <td>1</td>\n",
              "      <td>13</td>\n",
              "      <td>505</td>\n",
              "      <td>194</td>\n",
              "      <td>46</td>\n",
              "      <td>527</td>\n",
              "      <td>6</td>\n",
              "      <td>Recovered</td>\n",
              "      <td>1197</td>\n",
              "      <td>3035</td>\n",
              "      <td>54</td>\n",
              "      <td>17683</td>\n",
              "      <td>0</td>\n",
              "      <td>869</td>\n",
              "      <td>70</td>\n",
              "      <td>632</td>\n",
              "    </tr>\n",
              "    <tr>\n",
              "      <th>365</th>\n",
              "      <td>0</td>\n",
              "      <td>37</td>\n",
              "      <td>1</td>\n",
              "      <td>4</td>\n",
              "      <td>9</td>\n",
              "      <td>0</td>\n",
              "      <td>0</td>\n",
              "      <td>13-Jul-20</td>\n",
              "      <td>0</td>\n",
              "      <td>40</td>\n",
              "      <td>0</td>\n",
              "      <td>3</td>\n",
              "      <td>10</td>\n",
              "      <td>0</td>\n",
              "      <td>7</td>\n",
              "      <td>2</td>\n",
              "      <td>8</td>\n",
              "      <td>73</td>\n",
              "      <td>2</td>\n",
              "      <td>0</td>\n",
              "      <td>0</td>\n",
              "      <td>193</td>\n",
              "      <td>0</td>\n",
              "      <td>0</td>\n",
              "      <td>10</td>\n",
              "      <td>0</td>\n",
              "      <td>0</td>\n",
              "      <td>7</td>\n",
              "      <td>5</td>\n",
              "      <td>0</td>\n",
              "      <td>8</td>\n",
              "      <td>0</td>\n",
              "      <td>Deceased</td>\n",
              "      <td>9</td>\n",
              "      <td>66</td>\n",
              "      <td>0</td>\n",
              "      <td>541</td>\n",
              "      <td>0</td>\n",
              "      <td>21</td>\n",
              "      <td>2</td>\n",
              "      <td>24</td>\n",
              "    </tr>\n",
              "    <tr>\n",
              "      <th>366</th>\n",
              "      <td>0</td>\n",
              "      <td>1916</td>\n",
              "      <td>0</td>\n",
              "      <td>0</td>\n",
              "      <td>1432</td>\n",
              "      <td>12</td>\n",
              "      <td>0</td>\n",
              "      <td>14-Jul-20</td>\n",
              "      <td>0</td>\n",
              "      <td>1606</td>\n",
              "      <td>16</td>\n",
              "      <td>0</td>\n",
              "      <td>915</td>\n",
              "      <td>59</td>\n",
              "      <td>699</td>\n",
              "      <td>0</td>\n",
              "      <td>346</td>\n",
              "      <td>2496</td>\n",
              "      <td>608</td>\n",
              "      <td>35</td>\n",
              "      <td>0</td>\n",
              "      <td>6741</td>\n",
              "      <td>2</td>\n",
              "      <td>0</td>\n",
              "      <td>798</td>\n",
              "      <td>0</td>\n",
              "      <td>51</td>\n",
              "      <td>543</td>\n",
              "      <td>333</td>\n",
              "      <td>63</td>\n",
              "      <td>98</td>\n",
              "      <td>45</td>\n",
              "      <td>Confirmed</td>\n",
              "      <td>0</td>\n",
              "      <td>4526</td>\n",
              "      <td>0</td>\n",
              "      <td>26223</td>\n",
              "      <td>-179</td>\n",
              "      <td>1594</td>\n",
              "      <td>78</td>\n",
              "      <td>1390</td>\n",
              "    </tr>\n",
              "    <tr>\n",
              "      <th>367</th>\n",
              "      <td>0</td>\n",
              "      <td>1003</td>\n",
              "      <td>0</td>\n",
              "      <td>0</td>\n",
              "      <td>655</td>\n",
              "      <td>23</td>\n",
              "      <td>0</td>\n",
              "      <td>14-Jul-20</td>\n",
              "      <td>0</td>\n",
              "      <td>1924</td>\n",
              "      <td>32</td>\n",
              "      <td>0</td>\n",
              "      <td>749</td>\n",
              "      <td>6</td>\n",
              "      <td>453</td>\n",
              "      <td>0</td>\n",
              "      <td>128</td>\n",
              "      <td>1142</td>\n",
              "      <td>181</td>\n",
              "      <td>0</td>\n",
              "      <td>0</td>\n",
              "      <td>4500</td>\n",
              "      <td>0</td>\n",
              "      <td>0</td>\n",
              "      <td>367</td>\n",
              "      <td>8</td>\n",
              "      <td>6</td>\n",
              "      <td>609</td>\n",
              "      <td>77</td>\n",
              "      <td>44</td>\n",
              "      <td>124</td>\n",
              "      <td>-1</td>\n",
              "      <td>Recovered</td>\n",
              "      <td>0</td>\n",
              "      <td>4743</td>\n",
              "      <td>63</td>\n",
              "      <td>18343</td>\n",
              "      <td>0</td>\n",
              "      <td>778</td>\n",
              "      <td>11</td>\n",
              "      <td>718</td>\n",
              "    </tr>\n",
              "    <tr>\n",
              "      <th>368</th>\n",
              "      <td>0</td>\n",
              "      <td>43</td>\n",
              "      <td>0</td>\n",
              "      <td>0</td>\n",
              "      <td>9</td>\n",
              "      <td>2</td>\n",
              "      <td>0</td>\n",
              "      <td>14-Jul-20</td>\n",
              "      <td>0</td>\n",
              "      <td>35</td>\n",
              "      <td>0</td>\n",
              "      <td>0</td>\n",
              "      <td>14</td>\n",
              "      <td>0</td>\n",
              "      <td>4</td>\n",
              "      <td>0</td>\n",
              "      <td>8</td>\n",
              "      <td>87</td>\n",
              "      <td>1</td>\n",
              "      <td>0</td>\n",
              "      <td>0</td>\n",
              "      <td>213</td>\n",
              "      <td>0</td>\n",
              "      <td>0</td>\n",
              "      <td>10</td>\n",
              "      <td>0</td>\n",
              "      <td>0</td>\n",
              "      <td>5</td>\n",
              "      <td>9</td>\n",
              "      <td>0</td>\n",
              "      <td>3</td>\n",
              "      <td>0</td>\n",
              "      <td>Deceased</td>\n",
              "      <td>0</td>\n",
              "      <td>67</td>\n",
              "      <td>0</td>\n",
              "      <td>563</td>\n",
              "      <td>0</td>\n",
              "      <td>28</td>\n",
              "      <td>1</td>\n",
              "      <td>24</td>\n",
              "    </tr>\n",
              "  </tbody>\n",
              "</table>\n",
              "</div>"
            ],
            "text/plain": [
              "    an    ap ar   as    br  ch  ct  ...    tn  tr     tt    un    up  ut    wb\n",
              "364  9  1052  7  522   411   6  49  ...  3035  54  17683     0   869  70   632\n",
              "365  0    37  1    4     9   0   0  ...    66   0    541     0    21   2    24\n",
              "366  0  1916  0    0  1432  12   0  ...  4526   0  26223  -179  1594  78  1390\n",
              "367  0  1003  0    0   655  23   0  ...  4743  63  18343     0   778  11   718\n",
              "368  0    43  0    0     9   2   0  ...    67   0    563     0    28   1    24\n",
              "\n",
              "[5 rows x 41 columns]"
            ]
          },
          "metadata": {
            "tags": []
          },
          "execution_count": 21
        }
      ]
    },
    {
      "cell_type": "code",
      "metadata": {
        "id": "_VoDpNIvAO3-",
        "colab_type": "code",
        "colab": {
          "base_uri": "https://localhost:8080/",
          "height": 102
        },
        "outputId": "c787e567-b068-4b09-88c8-acb266aec04b"
      },
      "source": [
        "df_ = df.tail(3)\n",
        "df_.drop('date', axis=1, inplace=True)\n",
        "df_.set_index('status', inplace=True)\n",
        "df_ = df_.T\n",
        "df_ = df_.apply(pd.to_numeric)\n",
        "df_.drop('tt', inplace=True)"
      ],
      "execution_count": null,
      "outputs": [
        {
          "output_type": "stream",
          "text": [
            "/usr/local/lib/python3.6/dist-packages/pandas/core/frame.py:3997: SettingWithCopyWarning: \n",
            "A value is trying to be set on a copy of a slice from a DataFrame\n",
            "\n",
            "See the caveats in the documentation: https://pandas.pydata.org/pandas-docs/stable/user_guide/indexing.html#returning-a-view-versus-a-copy\n",
            "  errors=errors,\n"
          ],
          "name": "stderr"
        }
      ]
    },
    {
      "cell_type": "code",
      "metadata": {
        "id": "8ZMZHpQvCZBf",
        "colab_type": "code",
        "colab": {
          "base_uri": "https://localhost:8080/",
          "height": 204
        },
        "outputId": "619df07d-e8fc-4f42-829c-5e0df8d458a7"
      },
      "source": [
        "df_.head()"
      ],
      "execution_count": null,
      "outputs": [
        {
          "output_type": "execute_result",
          "data": {
            "text/html": [
              "<div>\n",
              "<style scoped>\n",
              "    .dataframe tbody tr th:only-of-type {\n",
              "        vertical-align: middle;\n",
              "    }\n",
              "\n",
              "    .dataframe tbody tr th {\n",
              "        vertical-align: top;\n",
              "    }\n",
              "\n",
              "    .dataframe thead th {\n",
              "        text-align: right;\n",
              "    }\n",
              "</style>\n",
              "<table border=\"1\" class=\"dataframe\">\n",
              "  <thead>\n",
              "    <tr style=\"text-align: right;\">\n",
              "      <th>status</th>\n",
              "      <th>Confirmed</th>\n",
              "      <th>Recovered</th>\n",
              "      <th>Deceased</th>\n",
              "    </tr>\n",
              "  </thead>\n",
              "  <tbody>\n",
              "    <tr>\n",
              "      <th>an</th>\n",
              "      <td>0</td>\n",
              "      <td>0</td>\n",
              "      <td>0</td>\n",
              "    </tr>\n",
              "    <tr>\n",
              "      <th>ap</th>\n",
              "      <td>1916</td>\n",
              "      <td>1003</td>\n",
              "      <td>43</td>\n",
              "    </tr>\n",
              "    <tr>\n",
              "      <th>ar</th>\n",
              "      <td>0</td>\n",
              "      <td>0</td>\n",
              "      <td>0</td>\n",
              "    </tr>\n",
              "    <tr>\n",
              "      <th>as</th>\n",
              "      <td>0</td>\n",
              "      <td>0</td>\n",
              "      <td>0</td>\n",
              "    </tr>\n",
              "    <tr>\n",
              "      <th>br</th>\n",
              "      <td>1432</td>\n",
              "      <td>655</td>\n",
              "      <td>9</td>\n",
              "    </tr>\n",
              "  </tbody>\n",
              "</table>\n",
              "</div>"
            ],
            "text/plain": [
              "status  Confirmed  Recovered  Deceased\n",
              "an              0          0         0\n",
              "ap           1916       1003        43\n",
              "ar              0          0         0\n",
              "as              0          0         0\n",
              "br           1432        655         9"
            ]
          },
          "metadata": {
            "tags": []
          },
          "execution_count": 20
        }
      ]
    },
    {
      "cell_type": "code",
      "metadata": {
        "id": "c_YK9AE9DCUp",
        "colab_type": "code",
        "colab": {
          "base_uri": "https://localhost:8080/",
          "height": 279
        },
        "outputId": "7ec4ebaf-ea6a-4e6f-c2f8-0ded963af817"
      },
      "source": [
        "plt.bar(df_.index ,df_.Confirmed);\n",
        "plt.bar(df_.index, df_.Recovered, bottom=df_.Confirmed)\n",
        "plt.bar(df_.index, df_.Deceased, bottom=df_.Confirmed + df_.Recovered)\n",
        "plt.xticks(rotation=90);"
      ],
      "execution_count": null,
      "outputs": [
        {
          "output_type": "display_data",
          "data": {
            "image/png": "[encoded data removed]",
            "text/plain": [
              "<Figure size 432x288 with 1 Axes>"
            ]
          },
          "metadata": {
            "tags": []
          }
        }
      ]
    },
    {
      "cell_type": "code",
      "metadata": {
        "id": "0_3fKlm7DrIn",
        "colab_type": "code",
        "colab": {
          "base_uri": "https://localhost:8080/",
          "height": 387
        },
        "outputId": "01c63a43-a352-47df-8a33-b7ad38eeb5ca"
      },
      "source": [
        "fig = plt.gcf();\n",
        "fig.set_size_inches(20, 6);\n",
        "plt.bar(df_.index ,df_.Confirmed);\n",
        "plt.bar(df_.index, df_.Recovered, bottom=df_.Confirmed)\n",
        "plt.bar(df_.index, df_.Deceased, bottom=df_.Confirmed + df_.Recovered)\n",
        "plt.xticks(rotation=90);"
      ],
      "execution_count": null,
      "outputs": [
        {
          "output_type": "display_data",
          "data": {
            "image/png": "[encoded data removed]",
            "text/plain": [
              "<Figure size 1440x432 with 1 Axes>"
            ]
          },
          "metadata": {
            "tags": []
          }
        }
      ]
    },
    {
      "cell_type": "code",
      "metadata": {
        "id": "vGolb0rNFZGT",
        "colab_type": "code",
        "colab": {
          "base_uri": "https://localhost:8080/",
          "height": 387
        },
        "outputId": "e9622957-a72f-4357-d963-5cd447068c72"
      },
      "source": [
        "fig = plt.gcf();\n",
        "fig.set_size_inches(20, 6);\n",
        "plt.bar(df_.index ,df_.Confirmed, color = 'Orange');\n",
        "plt.bar(df_.index, df_.Recovered, bottom=df_.Confirmed, color = 'Green')\n",
        "plt.bar(df_.index, df_.Deceased, bottom=df_.Confirmed + df_.Recovered, color = 'Red')\n",
        "plt.xticks(rotation=90);"
      ],
      "execution_count": null,
      "outputs": [
        {
          "output_type": "display_data",
          "data": {
            "image/png": "[encoded data removed]",
            "text/plain": [
              "<Figure size 1440x432 with 1 Axes>"
            ]
          },
          "metadata": {
            "tags": []
          }
        }
      ]
    },
    {
      "cell_type": "code",
      "metadata": {
        "id": "PK_3uygxF3Ud",
        "colab_type": "code",
        "colab": {
          "base_uri": "https://localhost:8080/",
          "height": 387
        },
        "outputId": "c839980e-08ee-459e-9eb6-7a69e0d55817"
      },
      "source": [
        "fig = plt.gcf();\n",
        "fig.set_size_inches(20, 6);\n",
        "plt.bar(df_.index ,df_.Confirmed, color = 'Orange');\n",
        "plt.bar(df_.index, df_.Recovered, bottom=df_.Confirmed, color = 'Green')\n",
        "plt.bar(df_.index, df_.Deceased, bottom=df_.Confirmed + df_.Recovered, color = 'Red')\n",
        "plt.xticks(rotation=90);\n",
        "\n",
        "for i, val in enumerate(df_.index):\n",
        "    y = df_.loc[val].sum() + 100\n",
        "    x = i\n",
        "    plt.text(x, y, str(y), ha='center');"
      ],
      "execution_count": null,
      "outputs": [
        {
          "output_type": "display_data",
          "data": {
            "image/png": "[encoded data removed]",
            "text/plain": [
              "<Figure size 1440x432 with 1 Axes>"
            ]
          },
          "metadata": {
            "tags": []
          }
        }
      ]
    },
    {
      "cell_type": "code",
      "metadata": {
        "id": "LLJDAAS1GgOi",
        "colab_type": "code",
        "colab": {}
      },
      "source": [
        ""
      ],
      "execution_count": null,
      "outputs": []
    }
  ]
}